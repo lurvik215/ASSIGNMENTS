{
 "cells": [
  {
   "cell_type": "markdown",
   "id": "5e04f883-7edf-4b91-af74-dc74ebf0a769",
   "metadata": {},
   "source": [
    "<h1><center>HYPOTHESIS TESTING Assignment-4</center></h1>"
   ]
  },
  {
   "cell_type": "markdown",
   "id": "027173b8-1f1e-410b-8cad-5c11ecb4de1f",
   "metadata": {},
   "source": [
    "## Objective:\n",
    "To investigate the restaurant owners' claim about the increase in weekly operating costs using hypothesis testing."
   ]
  },
  {
   "cell_type": "markdown",
   "id": "420abb03-efd1-4296-bc2e-89225acbef56",
   "metadata": {},
   "source": [
    "## Data Provided:"
   ]
  },
  {
   "cell_type": "markdown",
   "id": "9f390070-a92f-45d5-acbc-c23fa90af760",
   "metadata": {},
   "source": [
    "1. The theoretical weekly operating cost model: W = $(1,000 + 5X)\n",
    "2. Sample of 25 restaurants with a mean weekly cost of Rs. 3,050\n",
    "3. Number of units produced in a week (X) follows a normal distribution with a mean (μ) of 600 units and a standard deviation (σ) of 25 units\n"
   ]
  },
  {
   "cell_type": "markdown",
   "id": "7bd0de56-443e-458d-9a1e-aacde654aa23",
   "metadata": {},
   "source": [
    "## Tasks:"
   ]
  },
  {
   "cell_type": "markdown",
   "id": "5d5ffad2-1795-451c-9140-1f7748c01cc9",
   "metadata": {},
   "source": [
    "### 1. State Hypotheses"
   ]
  },
  {
   "cell_type": "markdown",
   "id": "5cb92c06-7271-4097-ad6e-438fc33d82b1",
   "metadata": {},
   "source": [
    "The hypotheses define the null and alternative scenarios:\n",
    "1. Null Hypothesis (H0): The mean weekly operating cost equals the theoretical cost predicted by the model ($ \\mu_w = 1000 + 5 \\cdot 600 $).\n",
    "2. Alternative Hypothesis (H1): The mean weekly operating cost is greater than the theoretical cost ($ \\mu_w > 1000 + 5 \\cdot 600 $).\n",
    "\n",
    "Given $ X $ has a mean ($ \\mu_x $) of 600 units, the theoretical mean weekly cost is:\n",
    "$$\\mu_w = 1000 + 5 \\cdot 600 = 1000 + 3000 = 4000 \\, \\text{(Rs. 4000)}$$"
   ]
  },
  {
   "cell_type": "markdown",
   "id": "61910273-e742-4c4a-b8a5-565e105f1425",
   "metadata": {},
   "source": [
    "### 2. Calculate the Test Statistic: "
   ]
  },
  {
   "cell_type": "code",
   "execution_count": 3,
   "id": "bb3ff2cb-d557-4c44-8761-492c8261933c",
   "metadata": {},
   "outputs": [],
   "source": [
    "import scipy.stats as stats\n",
    "import numpy as np"
   ]
  },
  {
   "cell_type": "code",
   "execution_count": 5,
   "id": "5e66bc94-e417-4d84-b791-c24de4b13db8",
   "metadata": {},
   "outputs": [],
   "source": [
    "sample_mean = 3050  # Sample mean weekly cost (Rs. 3,050)\n",
    "mu_x = 600  # Mean number of units produced\n",
    "sigma_x = 25  # Standard deviation of units produced\n",
    "n = 25  # Sample size\n",
    "alpha = 0.05  # Significance level\n"
   ]
  },
  {
   "cell_type": "code",
   "execution_count": 6,
   "id": "c2a57c25-c7ed-454c-9e48-c2e0b570232e",
   "metadata": {},
   "outputs": [],
   "source": [
    "# Calculate theoretical mean weekly cost: W = 1000 + 5X\n",
    "# For X = 600, mu_w = 1000 + 5 * 600\n",
    "mu_w = 1000 + 5 * mu_x\n",
    "\n",
    "# Standard deviation of weekly cost: sigma_w = 5 * sigma_x\n",
    "sigma_w = 5 * sigma_x"
   ]
  },
  {
   "cell_type": "code",
   "execution_count": 7,
   "id": "550d80f4-8961-45c9-b383-2fc44930c42e",
   "metadata": {},
   "outputs": [
    {
     "name": "stdout",
     "output_type": "stream",
     "text": [
      "Theoretical Mean Weekly Cost (μ_w): Rs. 4000.00\n",
      "Standard Deviation of Weekly Cost (σ_w): Rs. 125.00\n",
      "Standard Error: Rs. 25.00\n",
      "Z Test Statistic: -38.0000\n"
     ]
    }
   ],
   "source": [
    "# Calculate the Test Statistic\n",
    "# Z = (sample_mean - mu_w) / (sigma_w / sqrt(n))\n",
    "standard_error = sigma_w / np.sqrt(n)\n",
    "z_stat = (sample_mean - mu_w) / standard_error\n",
    "\n",
    "print(f\"Theoretical Mean Weekly Cost (μ_w): Rs. {mu_w:.2f}\")\n",
    "print(f\"Standard Deviation of Weekly Cost (σ_w): Rs. {sigma_w:.2f}\")\n",
    "print(f\"Standard Error: Rs. {standard_error:.2f}\")\n",
    "print(f\"Z Test Statistic: {z_stat:.4f}\")"
   ]
  },
  {
   "cell_type": "markdown",
   "id": "82dbe050-d9cc-4c7a-b42c-5b83cb82fb41",
   "metadata": {},
   "source": [
    "The test statistic is a Z-score, calculated as:\n",
    "$$Z = \\frac{\\bar{x} - \\mu_w}{\\sigma_w / \\sqrt{n}}$$\n",
    "Where:\n",
    "\n",
    "$ \\bar{x} = 3050 $ (Sample mean weekly cost Rs. 3,050).\n",
    "\n",
    "$ \\mu_w = 4000 $ (Theoretical mean weekly cost).\n",
    "\n",
    "$ \\sigma_w = 5 \\cdot \\sigma_x $  \n",
    "\n",
    "Standard deviation of weekly cost, since $ W = 1000 + 5X $, and $ \\sigma_x = 25 $ (standard deviation of units produced). Thus:\n",
    "$$\\sigma_w = 5 \\cdot 25 = 125$$\n",
    "\n",
    "$ n = 25 $ (Sample size).\n",
    "\n",
    "Standard error = $ \\sigma_w / \\sqrt{n} = 125 / \\sqrt{25} = 125 / 5 = 25 $.\n",
    "\n",
    "Now compute the Z-statistic:\n",
    "$$Z = \\frac{3050 - 4000}{25} = \\frac{-950}{25} = -38$$"
   ]
  },
  {
   "cell_type": "markdown",
   "id": "081b92bb-1121-40bd-be22-6154c4749b2e",
   "metadata": {},
   "source": [
    "### 3. Determine Critical Value"
   ]
  },
  {
   "cell_type": "code",
   "execution_count": 8,
   "id": "c2e8ae5b-8911-48f9-aeed-c318a482792a",
   "metadata": {},
   "outputs": [
    {
     "name": "stdout",
     "output_type": "stream",
     "text": [
      "Significance Level (α): 0.05\n",
      "Critical Value (Z_α for one-tailed test): 1.6449\n"
     ]
    }
   ],
   "source": [
    "# 3. Determine the Critical Value\n",
    "# One-tailed test at alpha = 0.05\n",
    "critical_value = stats.norm.ppf(1 - alpha)\n",
    "\n",
    "print(f\"Significance Level (α): {alpha}\")\n",
    "print(f\"Critical Value (Z_α for one-tailed test): {critical_value:.4f}\")"
   ]
  },
  {
   "cell_type": "markdown",
   "id": "6bf0ebf7-d22e-4fdd-9ef0-43e3a16dec1b",
   "metadata": {},
   "source": [
    "### 4. Conclusion:"
   ]
  },
  {
   "cell_type": "markdown",
   "id": "3c8533c1-aa7c-4dd4-94ef-02e59b1dc5ad",
   "metadata": {},
   "source": [
    "We can observe that the Test Statistic(Z-Statistic) value is less than the Critical Value, we fail to reject the Null Hypotheses. Therefore we fail to reject Null Hypotheses, there is no evidence to support the claim that weekly operating costs are higher than the model predicts. In fact, the sample mean (Rs. 3,050) is lower than the theoretical mean (Rs. 4,000), which contradicts the restaurant owners' claim."
   ]
  }
 ],
 "metadata": {
  "kernelspec": {
   "display_name": "Python 3 (ipykernel)",
   "language": "python",
   "name": "python3"
  },
  "language_info": {
   "codemirror_mode": {
    "name": "ipython",
    "version": 3
   },
   "file_extension": ".py",
   "mimetype": "text/x-python",
   "name": "python",
   "nbconvert_exporter": "python",
   "pygments_lexer": "ipython3",
   "version": "3.12.7"
  }
 },
 "nbformat": 4,
 "nbformat_minor": 5
}
