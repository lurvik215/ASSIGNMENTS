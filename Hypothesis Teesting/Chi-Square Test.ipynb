{
 "cells": [
  {
   "cell_type": "markdown",
   "id": "16c509e1-9102-4600-adba-b6b3e1961b6a",
   "metadata": {},
   "source": [
    "<h1><center>CHI - SQUARE TEST Assignment-4</center></h1>"
   ]
  },
  {
   "cell_type": "markdown",
   "id": "e22fd392-4157-4a4c-83f8-cd26944a00d1",
   "metadata": {},
   "source": [
    "# Association between Device Type and Customer Satisfaction"
   ]
  },
  {
   "cell_type": "markdown",
   "id": "3f93e7fa-8b0a-4ec4-8059-2e4353be7be2",
   "metadata": {},
   "source": [
    "## DATA PROVIDED:"
   ]
  },
  {
   "cell_type": "code",
   "execution_count": 2,
   "id": "b3642b7a-35ca-4af0-981a-d69163f4bed5",
   "metadata": {},
   "outputs": [
    {
     "data": {
      "text/html": [
       "<img src=\"Screenshot 2025-07-06 192129.png\" width=\"500\" height=\"500\"/>"
      ],
      "text/plain": [
       "<IPython.core.display.Image object>"
      ]
     },
     "execution_count": 2,
     "metadata": {},
     "output_type": "execute_result"
    }
   ],
   "source": [
    "# import image module\n",
    "from IPython.display import Image\n",
    "\n",
    "# get the image\n",
    "Image(url=\"Screenshot 2025-07-06 192129.png\", width=500, height=500)"
   ]
  },
  {
   "cell_type": "code",
   "execution_count": 4,
   "id": "dd814cb0-3b03-460d-84e5-710cd061c84d",
   "metadata": {},
   "outputs": [],
   "source": [
    "import numpy as np\n",
    "from scipy.stats import chi2_contingency, chi2"
   ]
  },
  {
   "cell_type": "code",
   "execution_count": 5,
   "id": "8b185bed-97e7-4c62-9250-730e0d3df81a",
   "metadata": {},
   "outputs": [],
   "source": [
    "# Data from the contingency table\n",
    "observed = np.array([\n",
    "    [50, 70],\n",
    "    [80, 100],\n",
    "    [60, 90],\n",
    "    [30, 50],\n",
    "    [20, 50]\n",
    "])"
   ]
  },
  {
   "cell_type": "markdown",
   "id": "17df73ec-3dcd-45e7-bb5d-a19df2dd0024",
   "metadata": {},
   "source": [
    "# Objective:"
   ]
  },
  {
   "cell_type": "markdown",
   "id": "35045a82-317c-4d30-8ac5-9adef1ddc44c",
   "metadata": {},
   "source": [
    "To use the Chi-Square test for independence to determine if there's a significant association between the type of smart home device purchased (Smart Thermostats vs. Smart Lights) and the customer satisfaction level."
   ]
  },
  {
   "cell_type": "markdown",
   "id": "8f507e2b-0a1d-4c9d-aa5f-148b40ee08c3",
   "metadata": {},
   "source": [
    "# Tasks:"
   ]
  },
  {
   "cell_type": "markdown",
   "id": "d5958c2e-0d79-4584-aa3b-63f124facaea",
   "metadata": {},
   "source": [
    "### 1. State Hypotheses"
   ]
  },
  {
   "cell_type": "markdown",
   "id": "8c8b2ef7-81b3-44b1-93a2-40a96041111b",
   "metadata": {},
   "source": [
    "The first step is to define the Null and Alternative hypotheses:\n",
    "1. Null Hyptheses: There is no association between device type and customer satisfaction. This means the distribution of satisfaction levels is the same for both Smart Thermostats and Smart Lights.\n",
    "2. Alternative Hypotheses: There is an association between device type and customer satisfaction, meaning satisfaction levels differ between the two device types."
   ]
  },
  {
   "cell_type": "markdown",
   "id": "0bdccd23-77db-4460-8da6-8cd33e8ff115",
   "metadata": {},
   "source": [
    "### 2. Compute the Chi-Square Statistic"
   ]
  },
  {
   "cell_type": "markdown",
   "id": "72c4ac90-8a15-4e0a-9627-941b9926957f",
   "metadata": {},
   "source": [
    "The chi-square statistic measures how much the observed frequencies deviate from the expected frequencies under the null hypothesis."
   ]
  },
  {
   "cell_type": "code",
   "execution_count": 10,
   "id": "58a3f709-49e9-4982-b4f8-a6b951c685a7",
   "metadata": {},
   "outputs": [
    {
     "name": "stdout",
     "output_type": "stream",
     "text": [
      "Chi-Square Statistic Calculation:\n",
      "Chi-Square Statistic: 5.64\n",
      "Degrees of Freedom: 4\n",
      "Expected Frequencies:\n",
      "[[ 48.  72.]\n",
      " [ 72. 108.]\n",
      " [ 60.  90.]\n",
      " [ 32.  48.]\n",
      " [ 28.  42.]]\n"
     ]
    }
   ],
   "source": [
    " # Compute the Chi-Square Statistic\n",
    "chi2_stat, p_value, dof, expected = chi2_contingency(observed)\n",
    "\n",
    "print(\"Chi-Square Statistic Calculation:\")\n",
    "print(f\"Chi-Square Statistic: {chi2_stat:.2f}\")\n",
    "print(f\"Degrees of Freedom: {dof}\")\n",
    "print(\"Expected Frequencies:\")\n",
    "print(expected)\n"
   ]
  },
  {
   "cell_type": "markdown",
   "id": "74c50878-802e-456b-8db3-545080983e80",
   "metadata": {},
   "source": [
    "### 3. Determine the Critical Value:"
   ]
  },
  {
   "cell_type": "markdown",
   "id": "1c4ede0f-6759-403e-b6b0-aa0c0d79a1fe",
   "metadata": {},
   "source": [
    "Using the significance level (alpha) of 0.05 and the degrees of freedom (which is the number of categories minus 1)"
   ]
  },
  {
   "cell_type": "code",
   "execution_count": 11,
   "id": "be53668c-9f7f-4dec-a39a-451ccf671bbf",
   "metadata": {},
   "outputs": [
    {
     "name": "stdout",
     "output_type": "stream",
     "text": [
      "3. Critical Value Determination:\n",
      "Significance Level (alpha): 0.05\n",
      "Degrees of Freedom: 4\n",
      "Critical Value: 9.49\n"
     ]
    }
   ],
   "source": [
    "# Determine the Critical Value\n",
    "alpha = 0.05\n",
    "critical_value = chi2.ppf(1 - alpha, dof)\n",
    "\n",
    "print(\"3. Critical Value Determination:\")\n",
    "print(f\"Significance Level (alpha): {alpha}\")\n",
    "print(f\"Degrees of Freedom: {dof}\")\n",
    "print(f\"Critical Value: {critical_value:.2f}\")"
   ]
  },
  {
   "cell_type": "markdown",
   "id": "7a2b5156-63b3-4117-bfed-443b262633e0",
   "metadata": {},
   "source": [
    "### 4. Conclusion"
   ]
  },
  {
   "cell_type": "markdown",
   "id": "1ef5df1d-319e-45c4-a940-82d80e446db1",
   "metadata": {},
   "source": [
    "We can observe that the Chi-Square Statistic is less than the Critical Value, we fail to reject the Null Hypotheses. Therefore there is not suffecient evidence to suggest an association between device type and customer satisfaction."
   ]
  },
  {
   "cell_type": "markdown",
   "id": "ef75575b-74e5-4943-9700-9033e38a15c8",
   "metadata": {},
   "source": [
    "Note:\n",
    "1. If Chi-Square Statistic > Critical value, Reject Null Hypotheses(evidence of an association).\n",
    "2. If Chi-Square Statistic <= Critical value, Fail to reject Null Hypotheses(No evidence of an association)."
   ]
  },
  {
   "cell_type": "code",
   "execution_count": null,
   "id": "118916f8-5467-437e-8d54-224f915219a9",
   "metadata": {},
   "outputs": [],
   "source": []
  }
 ],
 "metadata": {
  "kernelspec": {
   "display_name": "Python 3 (ipykernel)",
   "language": "python",
   "name": "python3"
  },
  "language_info": {
   "codemirror_mode": {
    "name": "ipython",
    "version": 3
   },
   "file_extension": ".py",
   "mimetype": "text/x-python",
   "name": "python",
   "nbconvert_exporter": "python",
   "pygments_lexer": "ipython3",
   "version": "3.12.7"
  }
 },
 "nbformat": 4,
 "nbformat_minor": 5
}
