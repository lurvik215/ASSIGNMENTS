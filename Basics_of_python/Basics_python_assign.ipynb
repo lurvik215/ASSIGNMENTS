{
 "cells": [
  {
   "cell_type": "markdown",
   "id": "67250c6b-6770-46ee-a884-5918b37727cc",
   "metadata": {},
   "source": [
    "<h1><center>Python Programming Assignment</center></h1>"
   ]
  },
  {
   "cell_type": "markdown",
   "id": "83c57736-83a6-49dd-9aa2-5489c0f22983",
   "metadata": {},
   "source": [
    "# 1. Prime Numbers"
   ]
  },
  {
   "cell_type": "raw",
   "id": "a1934f62-f361-4aa3-83d0-b546564a4e9b",
   "metadata": {},
   "source": [
    "1. Write a Python program that checks whether a given number is prime or not. A prime number is a natural number greater than 1 that has no positive divisors other than 1 and itself."
   ]
  },
  {
   "cell_type": "code",
   "execution_count": 3,
   "id": "92cf1633-9921-4f77-be34-4e1190db0a94",
   "metadata": {},
   "outputs": [
    {
     "name": "stdin",
     "output_type": "stream",
     "text": [
      "enter a num : 4\n"
     ]
    },
    {
     "name": "stdout",
     "output_type": "stream",
     "text": [
      "4 is not prime number\n"
     ]
    }
   ],
   "source": [
    "def is_prime(n):\n",
    "    if(n<2): # base case prime number is greater than 1\n",
    "        return False\n",
    "    for i in range(2,(int(n**0.5))+1):  # check if n is divisible with the given range starting from 2 to sqrt(n)+1\n",
    "        #if n is divisible by any number with in this range then n is not prime \n",
    "        if(n%i == 0):\n",
    "            return False\n",
    "    return True\n",
    "#input parameter to call function\n",
    "num = int(input(\"enter a num :\"))\n",
    "if is_prime(num):\n",
    "    print(num,\"is a prime number\")\n",
    "else:\n",
    "    print(num,\"is not prime number\")\n"
   ]
  },
  {
   "cell_type": "markdown",
   "id": "bcede752-85a6-46dc-b53d-eca88ad86986",
   "metadata": {},
   "source": [
    "# 2. Product of Random Numbers"
   ]
  },
  {
   "cell_type": "raw",
   "id": "0fc33b94-7148-4489-bf88-38d92e07e6f1",
   "metadata": {},
   "source": [
    "2. Develop a Python program that generates two random numbers and asks the user to enter the product of these numbers. The program should then check if the user's answer is correct and display an appropriate message."
   ]
  },
  {
   "cell_type": "code",
   "execution_count": 5,
   "id": "41c4814f-8bcf-405b-a6ce-dfddf16ea167",
   "metadata": {},
   "outputs": [
    {
     "name": "stdin",
     "output_type": "stream",
     "text": [
      "what is 11*2 : 22\n"
     ]
    },
    {
     "name": "stdout",
     "output_type": "stream",
     "text": [
      "The user's answer is correct\n"
     ]
    }
   ],
   "source": [
    "import random as rd \n",
    "def product_rand():\n",
    "    n1 = rd.randint(1,20) #we are calling random integer numbers in the range of 1,20\n",
    "    n2 = rd.randint(1,20)\n",
    "    product = n1*n2  # multiplication done by the python\n",
    "    users_ans = int(input(f\"what is {n1}*{n2} :\")) # users answer for the multiplication of random numbers\n",
    "    if(product == users_ans):\n",
    "        print(\"The user's answer is correct\")\n",
    "    else:\n",
    "        print(\"The user's answer is incorrect\")\n",
    "\n",
    "#call function\n",
    "product_rand()\n"
   ]
  },
  {
   "cell_type": "markdown",
   "id": "5f9a9f92-1bac-47fc-b3cd-3b2e534cad17",
   "metadata": {},
   "source": [
    "# 3. Squares of Even/Odd Numbers"
   ]
  },
  {
   "cell_type": "raw",
   "id": "61f609d1-1b84-4fb5-a5b0-93c179c0362a",
   "metadata": {},
   "source": [
    "3. Create a Python script that prints the squares of all even or odd numbers within the range of 100 to 200. Choose either even or odd numbers and document your choice in the code."
   ]
  },
  {
   "cell_type": "code",
   "execution_count": 7,
   "id": "ada0b795-9665-4a44-bb4f-da77e651b476",
   "metadata": {},
   "outputs": [],
   "source": [
    "def print_even_squares():\n",
    "    for i in range(100,201): # iterating i in the range of 100-200\n",
    "        if(i%2==0): # checking for even number\n",
    "            print(i**2) #printing square of even numbers\n",
    "# function for odd_squares\n",
    "def print_odd_squares():\n",
    "    for i in range(100,201):\n",
    "        if(i%2!=0): # checking for the number to be odd\n",
    "            print(i**2)"
   ]
  },
  {
   "cell_type": "code",
   "execution_count": 8,
   "id": "9790845e-0aa5-4ced-9cd9-9cdb2a013dd9",
   "metadata": {},
   "outputs": [
    {
     "name": "stdout",
     "output_type": "stream",
     "text": [
      "10000\n",
      "10404\n",
      "10816\n",
      "11236\n",
      "11664\n",
      "12100\n",
      "12544\n",
      "12996\n",
      "13456\n",
      "13924\n",
      "14400\n",
      "14884\n",
      "15376\n",
      "15876\n",
      "16384\n",
      "16900\n",
      "17424\n",
      "17956\n",
      "18496\n",
      "19044\n",
      "19600\n",
      "20164\n",
      "20736\n",
      "21316\n",
      "21904\n",
      "22500\n",
      "23104\n",
      "23716\n",
      "24336\n",
      "24964\n",
      "25600\n",
      "26244\n",
      "26896\n",
      "27556\n",
      "28224\n",
      "28900\n",
      "29584\n",
      "30276\n",
      "30976\n",
      "31684\n",
      "32400\n",
      "33124\n",
      "33856\n",
      "34596\n",
      "35344\n",
      "36100\n",
      "36864\n",
      "37636\n",
      "38416\n",
      "39204\n",
      "40000\n"
     ]
    }
   ],
   "source": [
    "print_even_squares()"
   ]
  },
  {
   "cell_type": "code",
   "execution_count": 9,
   "id": "a73a1a34-5ca3-482c-afae-607f94365f57",
   "metadata": {},
   "outputs": [
    {
     "name": "stdout",
     "output_type": "stream",
     "text": [
      "10201\n",
      "10609\n",
      "11025\n",
      "11449\n",
      "11881\n",
      "12321\n",
      "12769\n",
      "13225\n",
      "13689\n",
      "14161\n",
      "14641\n",
      "15129\n",
      "15625\n",
      "16129\n",
      "16641\n",
      "17161\n",
      "17689\n",
      "18225\n",
      "18769\n",
      "19321\n",
      "19881\n",
      "20449\n",
      "21025\n",
      "21609\n",
      "22201\n",
      "22801\n",
      "23409\n",
      "24025\n",
      "24649\n",
      "25281\n",
      "25921\n",
      "26569\n",
      "27225\n",
      "27889\n",
      "28561\n",
      "29241\n",
      "29929\n",
      "30625\n",
      "31329\n",
      "32041\n",
      "32761\n",
      "33489\n",
      "34225\n",
      "34969\n",
      "35721\n",
      "36481\n",
      "37249\n",
      "38025\n",
      "38809\n",
      "39601\n"
     ]
    }
   ],
   "source": [
    "print_odd_squares()"
   ]
  },
  {
   "cell_type": "markdown",
   "id": "f703e6da-77f0-4f8f-baab-555357fc681d",
   "metadata": {},
   "source": [
    "# 4. Word Counter"
   ]
  },
  {
   "cell_type": "raw",
   "id": "206b31d1-3593-45a6-a105-a1cd1d3bb8b2",
   "metadata": {},
   "source": [
    "4. write a program to count the number of words in a given text.\n",
    "example:\n",
    "input_text = \"This is a sample text. This text will be used to demonstrate the word counter.\"\n",
    "Expected output:\n",
    "'This': 2 \n",
    "'is': 1\n",
    "'a': 1\n",
    "'sample': 1\n",
    "'text.': 1\n"
   ]
  },
  {
   "cell_type": "code",
   "execution_count": 11,
   "id": "83dfb636-f3d0-4c85-aec3-ce5adc6a3fbe",
   "metadata": {},
   "outputs": [
    {
     "name": "stdout",
     "output_type": "stream",
     "text": [
      "7\n",
      "Counter({'early': 2, 'To': 1, 'wakeup': 1, 'we': 1, 'need': 1, 'sleep': 1})\n"
     ]
    }
   ],
   "source": [
    "from collections import Counter # Counters are sub class of the dict class in python module used to count occurence of elements\n",
    "text = \"To wakeup early we need sleep early\"\n",
    "word_list = text.split()  # split method generates a list of words\n",
    "word_count = len(word_list) # total number of words in the text\n",
    "count_freq = Counter(word_list) # gives the frequency of each word\n",
    "print(word_count)\n",
    "print(count_freq)"
   ]
  },
  {
   "cell_type": "markdown",
   "id": "39d3f50b-5cef-41cb-8db2-07533f484012",
   "metadata": {},
   "source": [
    "# 5. Check for Palindrome"
   ]
  },
  {
   "cell_type": "raw",
   "id": "32545118-3461-4bfa-bac2-dff65f09bea1",
   "metadata": {},
   "source": [
    "Write a Python function called is_palindrome that takes a string as input and returns True if the string is a palindrome, and False otherwise. A palindrome is a word, phrase, number, or other sequence of characters that reads the same forward and backward, ignoring spaces, punctuation, and capitalization.\n",
    "Example:\n",
    "Input: \"racecar\"\n",
    "Expected Output: True"
   ]
  },
  {
   "cell_type": "code",
   "execution_count": 13,
   "id": "3f0f13b1-218f-45a4-8e5d-8f3794d91dc1",
   "metadata": {},
   "outputs": [
    {
     "data": {
      "text/plain": [
       "True"
      ]
     },
     "execution_count": 13,
     "metadata": {},
     "output_type": "execute_result"
    }
   ],
   "source": [
    "#recursive function\n",
    "def is_palindrome(s,i,j):\n",
    "    if(i>=j):   \n",
    "        return True\n",
    "    elif(s[i]!=s[j]):   # if mismatch found then return false\n",
    "        return False\n",
    "    return is_palindrome(s,i+1,j-1)   #call the function again by increasing i and decreasing j indices\n",
    "\n",
    "string = \"racecar\"\n",
    "i = 0\n",
    "j = len(string)-1\n",
    "is_palindrome(string,i,j)\n",
    "    "
   ]
  },
  {
   "cell_type": "code",
   "execution_count": 14,
   "id": "03530f3a-057e-4298-b458-eb24f961c28b",
   "metadata": {},
   "outputs": [
    {
     "name": "stdout",
     "output_type": "stream",
     "text": [
      "False\n"
     ]
    }
   ],
   "source": [
    "#slicing techniqe to get the reverse of the given string\n",
    "s = \"lurvik\"\n",
    "r = s[::-1] #index -1 means last letter of the string\n",
    "if(s==r):\n",
    "    print(True)\n",
    "else:\n",
    "    print(False)\n"
   ]
  },
  {
   "cell_type": "code",
   "execution_count": null,
   "id": "3ca0935d-87b5-419f-83f0-43e7f10ae139",
   "metadata": {},
   "outputs": [],
   "source": []
  }
 ],
 "metadata": {
  "kernelspec": {
   "display_name": "Python 3 (ipykernel)",
   "language": "python",
   "name": "python3"
  },
  "language_info": {
   "codemirror_mode": {
    "name": "ipython",
    "version": 3
   },
   "file_extension": ".py",
   "mimetype": "text/x-python",
   "name": "python",
   "nbconvert_exporter": "python",
   "pygments_lexer": "ipython3",
   "version": "3.12.7"
  }
 },
 "nbformat": 4,
 "nbformat_minor": 5
}
